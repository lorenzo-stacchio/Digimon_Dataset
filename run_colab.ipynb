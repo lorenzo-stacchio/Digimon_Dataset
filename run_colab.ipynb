{
 "cells": [
  {
   "cell_type": "code",
   "execution_count": null,
   "metadata": {},
   "outputs": [],
   "source": [
    "! git clone https://github.com/lorenzo-stacchio/Digimon_Dataset"
   ]
  },
  {
   "cell_type": "code",
   "execution_count": null,
   "metadata": {},
   "outputs": [],
   "source": [
    "! pip install -r /content/Digimon_Dataset/requirements.txt"
   ]
  },
  {
   "cell_type": "code",
   "execution_count": null,
   "metadata": {},
   "outputs": [],
   "source": [
    "! pip install git+https://github.com/huggingface/diffusers"
   ]
  },
  {
   "cell_type": "code",
   "execution_count": null,
   "metadata": {},
   "outputs": [],
   "source": [
    "! accelerate config default"
   ]
  },
  {
   "attachments": {},
   "cell_type": "markdown",
   "metadata": {},
   "source": [
    "# Download the dataset and unzip it in the correct folder"
   ]
  },
  {
   "cell_type": "code",
   "execution_count": null,
   "metadata": {},
   "outputs": [],
   "source": [
    "! pip install gdown\n",
    "import gdown\n",
    "\n",
    "url = 'https://drive.google.com/uc?id=1Ng2S1_4GuQjD-RovFpRYv85QnHR3zhZ_'\n",
    "output = 'dataset_inner.zip'\n",
    "gdown.download(url, output, quiet=False)\n",
    "\n",
    "! unzip /content/dataset_inner.zip  -d /content/Digimon_Dataset/dataset"
   ]
  },
  {
   "cell_type": "code",
   "execution_count": null,
   "metadata": {},
   "outputs": [],
   "source": [
    "! accelerate launch --mixed_precision=\"fp16\"  /content/Digimon_Dataset/generative_model/train_text_to_image.py --pretrained_model_name_or_path=\"CompVis/stable-diffusion-v1-4\"  --dataset_name=\"/content/Digimon_Dataset/dataset\"  --use_ema  --resolution=128 --center_crop --random_flip  --train_batch_size=1 --gradient_accumulation_steps=4  --gradient_checkpointing  --max_train_steps=15000  --learning_rate=1e-05  --max_grad_norm=1  --lr_scheduler=\"constant\" --lr_warmup_steps=0 --output_dir=\"/content/Digimon_Dataset/generative_model/sd-digimon-model\", --caption_column=\"description\" --image_column=\"image\"  --enable_xformers_memory_efficient_attention"
   ]
  }
 ],
 "metadata": {
  "language_info": {
   "name": "python"
  },
  "orig_nbformat": 4
 },
 "nbformat": 4,
 "nbformat_minor": 2
}
